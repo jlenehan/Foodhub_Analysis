{
 "cells": [
  {
   "cell_type": "markdown",
   "id": "e589a562-a8f7-45c6-a9c9-d9369969f2ae",
   "metadata": {},
   "source": [
    "## Libraries"
   ]
  },
  {
   "cell_type": "code",
   "execution_count": 1,
   "id": "0936d157-5b88-482d-81ba-e667c38a6931",
   "metadata": {},
   "outputs": [],
   "source": [
    "#Base Libraries\n",
    "import os\n",
    "import pandas as pd\n",
    "from datetime import date\n",
    "import matplotlib.pyplot as plt\n",
    "import numpy as np\n",
    "import seaborn as sns\n",
    "import missingno as msno"
   ]
  },
  {
   "cell_type": "code",
   "execution_count": 3,
   "id": "9792cec5-b1b0-49a1-82d2-1d214ca20e4f",
   "metadata": {},
   "outputs": [],
   "source": [
    "# sklearn ML libraries\n",
    "\n",
    "#Preprocessing\n",
    "from sklearn.preprocessing import StandardScaler, MinMaxScaler, OneHotEncoder, LabelEncoder\n",
    "\n",
    "# Supervised Learning Models\n",
    "from sklearn.linear_model import LinearRegression, Ridge, Lasso, LogisticRegression\n",
    "from sklearn.svm import SVC, SVR\n",
    "from sklearn.tree import DecisionTreeClassifier, DecisionTreeRegressor\n",
    "from sklearn.ensemble import RandomForestClassifier, RandomForestRegressor, GradientBoostingClassifier, GradientBoostingRegressor, AdaBoostClassifier, AdaBoostRegressor, VotingClassifier, VotingRegressor\n",
    "from sklearn.neighbors import KNeighborsClassifier, KNeighborsRegressor\n",
    "from sklearn.naive_bayes import GaussianNB, MultinomialNB\n",
    "from sklearn.neural_network import MLPClassifier, MLPRegressor\n",
    "\n",
    "# Unsupervised Learning Models\n",
    "from sklearn.cluster import KMeans, AgglomerativeClustering, DBSCAN\n",
    "from sklearn.decomposition import PCA, TruncatedSVD\n",
    "\n",
    "# Model Selection and Evaluation\n",
    "from sklearn.model_selection import train_test_split, cross_val_score, GridSearchCV, RandomizedSearchCV\n",
    "\n",
    "#metrics\n",
    "from sklearn.metrics import accuracy_score\n",
    "from sklearn.metrics import f1_score\n",
    "from sklearn.metrics import precision_score\n",
    "from sklearn.metrics import recall_score"
   ]
  },
  {
   "cell_type": "code",
   "execution_count": 1,
   "id": "8ae32025-b39c-4f55-b4e6-3ab596c20c80",
   "metadata": {},
   "outputs": [
    {
     "name": "stdout",
     "output_type": "stream",
     "text": [
      "WARNING:tensorflow:From C:\\Users\\jlenehan\\AppData\\Local\\Programs\\Python\\Python311\\Lib\\site-packages\\keras\\src\\losses.py:2976: The name tf.losses.sparse_softmax_cross_entropy is deprecated. Please use tf.compat.v1.losses.sparse_softmax_cross_entropy instead.\n",
      "\n"
     ]
    }
   ],
   "source": [
    "# Tensorflow libraries\n",
    "\n",
    "import tensorflow as tf\n",
    "\n",
    "# Keras (high-level neural networks API integrated with TensorFlow)\n",
    "from tensorflow.keras.models import Sequential\n",
    "from tensorflow.keras.layers import Dense, Conv2D, MaxPooling2D, Flatten, LSTM, Embedding\n",
    "from tensorflow.keras.optimizers import Adam, SGD, RMSprop\n",
    "from tensorflow.keras.losses import SparseCategoricalCrossentropy, MeanSquaredError\n",
    "from tensorflow.keras.metrics import Accuracy, MeanAbsoluteError\n",
    "from tensorflow.keras.callbacks import EarlyStopping, ModelCheckpoint\n",
    "\n",
    "# Image Preprocessing\n",
    "from tensorflow.keras.preprocessing.image import ImageDataGenerator\n",
    "\n",
    "# Model Evaluation\n",
    "from tensorflow.keras.utils import plot_model\n",
    "from tensorflow.keras.models import load_model\n",
    "\n",
    "# Other TensorFlow modules\n",
    "from tensorflow.keras import Input, Model\n",
    "from tensorflow.keras import layers\n",
    "from tensorflow.keras import datasets\n",
    "\n",
    "# TensorBoard for visualization\n",
    "from tensorflow.keras.callbacks import TensorBoard"
   ]
  },
  {
   "cell_type": "markdown",
   "id": "ef7db7b9-5f9e-47c0-826c-60e5a46c085f",
   "metadata": {},
   "source": [
    "## Importing Data"
   ]
  },
  {
   "cell_type": "code",
   "execution_count": 2,
   "id": "0565eb37-7941-4047-96e8-d93a26dc012a",
   "metadata": {},
   "outputs": [],
   "source": [
    "# Loading dataset - csv\n",
    "# df = pd.read_csv('your_dataset.csv')"
   ]
  },
  {
   "cell_type": "code",
   "execution_count": null,
   "id": "9d1a3af8-c8a4-4ae4-9cca-3b5a9e692d23",
   "metadata": {},
   "outputs": [],
   "source": []
  },
  {
   "cell_type": "markdown",
   "id": "97e453a3-d3b2-4849-9cb2-00c5722fecd6",
   "metadata": {},
   "source": [
    "## Exploratory Data Analysis"
   ]
  },
  {
   "cell_type": "code",
   "execution_count": null,
   "id": "0b24591b-02e1-40ff-8106-61de763b5e20",
   "metadata": {},
   "outputs": [],
   "source": [
    "#applying correct type to columns \n",
    "int_cols = ['col1','col2','col3']\n",
    "float_cols = ['col4','col5','col6']\n",
    "\n",
    "#defining data type\n",
    "df[int_cols] = df[int_cols].astype(int)\n",
    "df[float_cols] = df[float_cols].astype(float)"
   ]
  },
  {
   "cell_type": "code",
   "execution_count": null,
   "id": "e5e10bf4-90f0-4b7a-8431-a7337747a46c",
   "metadata": {},
   "outputs": [],
   "source": [
    "#Describe dataset\n",
    "print(df.columns)\n",
    "print(df.info())\n",
    "print(df.describe())\n",
    "print(df.shape)"
   ]
  },
  {
   "cell_type": "code",
   "execution_count": null,
   "id": "b537693e-bdd3-4b7a-9873-e1f6b87a034a",
   "metadata": {},
   "outputs": [],
   "source": [
    "#summary of null values\n",
    "print(df.isnull().sum())\n",
    "\n",
    "#plotting matrix of missing data\n",
    "msno.matrix(df)\n",
    "plt.show()"
   ]
  },
  {
   "cell_type": "code",
   "execution_count": null,
   "id": "2f66e6e2-7e19-46f7-a3b1-1d726cc552b8",
   "metadata": {},
   "outputs": [],
   "source": [
    "#custom function to print all unique values and their counts from each column\n",
    "def print_uniques(df):\n",
    "    #for large datasets - using generator object for speed\n",
    "    uniques_generator = ((x, df[x].unique(), df[x].nunique()) for x in df.columns)\n",
    "    \n",
    "    print('\\nUnique Values:')\n",
    "    for x, unique_values, num_unique in uniques_generator:\n",
    "        print(f\"{x}: \\n {unique_values} \\n ({num_unique} unique values)\")"
   ]
  },
  {
   "cell_type": "markdown",
   "id": "b0f7e90e-7462-423c-b420-896ef8126157",
   "metadata": {},
   "source": [
    "## Data Preprocessing"
   ]
  },
  {
   "cell_type": "code",
   "execution_count": null,
   "id": "6dc998bc-912f-44a1-bfbb-2eca8120f19f",
   "metadata": {},
   "outputs": [],
   "source": [
    "#defining unnecessary columns\n",
    "drop_cols = ['location', 'crash_date_est_i','report_type', 'intersection_related_i',\n",
    "       'hit_and_run_i', 'photos_taken_i', 'crash_date_est_i', 'injuries_unknown',\n",
    "       'private_property_i', 'statements_taken_i', 'dooring_i', 'work_zone_i',\n",
    "       'work_zone_type', 'workers_present_i','the_geom','rd_no',\n",
    "            'SECTOR','BEAT','BEAT_NUM']\n",
    "\n",
    "#dropping columns\n",
    "df=df.drop(columns=drop_cols)\n",
    "\n",
    "#plotting matrix of missing data\n",
    "msno.matrix(df)\n",
    "plt.show()\n",
    "\n",
    "#info of sorted data\n",
    "print(df.info())"
   ]
  },
  {
   "cell_type": "code",
   "execution_count": null,
   "id": "e0b725b6-de70-4b62-936f-5e357ff1e353",
   "metadata": {},
   "outputs": [],
   "source": []
  }
 ],
 "metadata": {
  "kernelspec": {
   "display_name": "Python 3 (ipykernel)",
   "language": "python",
   "name": "python3"
  },
  "language_info": {
   "codemirror_mode": {
    "name": "ipython",
    "version": 3
   },
   "file_extension": ".py",
   "mimetype": "text/x-python",
   "name": "python",
   "nbconvert_exporter": "python",
   "pygments_lexer": "ipython3",
   "version": "3.11.5"
  }
 },
 "nbformat": 4,
 "nbformat_minor": 5
}
